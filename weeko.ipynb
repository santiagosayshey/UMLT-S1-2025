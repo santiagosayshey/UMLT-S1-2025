{
 "cells": [
  {
   "cell_type": "code",
   "execution_count": 1,
   "id": "a56d3030",
   "metadata": {},
   "outputs": [],
   "source": [
    "import numpy"
   ]
  },
  {
   "cell_type": "markdown",
   "id": "9e37792c",
   "metadata": {},
   "source": [
    "### Implement a function calculate_average that calculates the average of a list of numbers from a text file. The function should take the name of the text file as an input and return the average.\n",
    "\n",
    "Hints:\n",
    "* Start by opening the text file using the open function.\n",
    "* Read the contents of the file into a variable using the read method.\n",
    "* Use the split method to separate the contents of the file into a list of strings, where each string is a number.\n",
    "* Convert each string to a float using the float function.\n",
    "* Calculate the average of the numbers by summing up all the numbers and dividing by the number of items in the list.\n",
    "* Return the average."
   ]
  },
  {
   "cell_type": "code",
   "execution_count": 5,
   "id": "ba9f5612",
   "metadata": {
    "tags": []
   },
   "outputs": [
    {
     "name": "stdout",
     "output_type": "stream",
     "text": [
      "1.1\n"
     ]
    }
   ],
   "source": [
    "def calculate_average(filename):\n",
    "\n",
    "    with open(filename, \"r\") as file:\n",
    "        nums = file.read().split()\n",
    "\n",
    "        sum = 0\n",
    "        for num in nums:\n",
    "            sum += float(num)\n",
    "\n",
    "        return sum / len(nums)\n",
    "\n",
    "# Test your function\n",
    "filename = \"data.txt\"\n",
    "avg = calculate_average(filename)\n",
    "print(avg)"
   ]
  },
  {
   "cell_type": "code",
   "execution_count": null,
   "id": "b0b3efe6",
   "metadata": {},
   "outputs": [],
   "source": []
  }
 ],
 "metadata": {
  "kernelspec": {
   "display_name": "Python 3 (ipykernel)",
   "language": "python",
   "name": "python3"
  },
  "language_info": {
   "codemirror_mode": {
    "name": "ipython",
    "version": 3
   },
   "file_extension": ".py",
   "mimetype": "text/x-python",
   "name": "python",
   "nbconvert_exporter": "python",
   "pygments_lexer": "ipython3",
   "version": "3.12.1"
  },
  "otter": {
   "OK_FORMAT": true,
   "tests": {
    "Q1": {
     "name": "Q1",
     "points": 10,
     "suites": [
      {
       "cases": [],
       "scored": true,
       "setup": "",
       "teardown": "",
       "type": "doctest"
      }
     ]
    }
   }
  }
 },
 "nbformat": 4,
 "nbformat_minor": 5
}
